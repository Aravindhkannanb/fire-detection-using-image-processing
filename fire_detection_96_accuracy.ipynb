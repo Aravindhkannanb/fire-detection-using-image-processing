{
  "cells": [
    {
      "cell_type": "markdown",
      "metadata": {
        "id": "view-in-github",
        "colab_type": "text"
      },
      "source": [
        "<a href=\"https://colab.research.google.com/github/Aravindhkannanb/fire-detection-using-image-processing/blob/main/fire_detection_96_accuracy.ipynb\" target=\"_parent\"><img src=\"https://colab.research.google.com/assets/colab-badge.svg\" alt=\"Open In Colab\"/></a>"
      ]
    },
    {
      "cell_type": "code",
      "execution_count": null,
      "metadata": {
        "id": "PX5MSOOJZjcO"
      },
      "outputs": [],
      "source": [
        "import glob\n",
        "import cv2\n",
        "import matplotlib.pyplot as plt\n",
        "import random\n",
        "import pandas as pd\n",
        "import numpy as np\n",
        "import seaborn as sns\n",
        "import tensorflow as tf\n",
        "from tensorflow.keras.models import Sequential\n",
        "from sklearn.model_selection import train_test_split\n",
        "from tensorflow.keras.layers import Conv2D,MaxPooling2D,Flatten,Dense\n",
        "from tensorflow.keras.callbacks import EarlyStopping\n",
        "from sklearn.metrics import confusion_matrix,classification_report"
      ]
    },
    {
      "cell_type": "code",
      "execution_count": null,
      "metadata": {
        "colab": {
          "base_uri": "https://localhost:8080/"
        },
        "id": "vTu1RWtiiy6y",
        "outputId": "cf75bf6d-af1a-4840-d1db-b7dc5f06f2ca"
      },
      "outputs": [
        {
          "output_type": "stream",
          "name": "stdout",
          "text": [
            "Mounted at /content/drive\n"
          ]
        }
      ],
      "source": [
        "from google.colab import drive\n",
        "drive.mount('/content/drive')"
      ]
    },
    {
      "cell_type": "markdown",
      "metadata": {
        "id": "IrE9ZIgIZjcP"
      },
      "source": []
    },
    {
      "cell_type": "markdown",
      "metadata": {
        "id": "GvIg9PCaZjcQ"
      },
      "source": [
        "We load the data with glob"
      ]
    },
    {
      "cell_type": "code",
      "execution_count": null,
      "metadata": {
        "id": "hs0_MeQbZjcQ"
      },
      "outputs": [],
      "source": [
        "lst_fire_img = glob.glob('/content/drive/MyDrive/fire_detection/fire/*.jpg')\n",
        "lst_non_fire_img = glob.glob('/content/drive/MyDrive/fire_detection/non_fire/*.jpg')"
      ]
    },
    {
      "cell_type": "code",
      "execution_count": null,
      "metadata": {
        "id": "tdxvyCWVZjcR"
      },
      "outputs": [],
      "source": [
        "lst_non_fire_img"
      ]
    },
    {
      "cell_type": "code",
      "execution_count": null,
      "metadata": {
        "colab": {
          "base_uri": "https://localhost:8080/"
        },
        "id": "d_blqHU6ZjcS",
        "outputId": "06e89c00-3252-45b9-bb4f-b2f392e13292"
      },
      "outputs": [
        {
          "output_type": "stream",
          "name": "stdout",
          "text": [
            "Number of images with fire : 322\n",
            "Number of images with fire : 471\n"
          ]
        }
      ],
      "source": [
        "print('Number of images with fire : {}'.format(len(lst_fire_img)))\n",
        "print('Number of images with fire : {}'.format(len(lst_non_fire_img)))"
      ]
    },
    {
      "cell_type": "code",
      "execution_count": null,
      "metadata": {
        "colab": {
          "base_uri": "https://localhost:8080/"
        },
        "id": "Ca6M3eQ6nvTN",
        "outputId": "6f780699-6a32-47d2-fdb9-e640d2ba5426"
      },
      "outputs": [
        {
          "output_type": "stream",
          "name": "stdout",
          "text": [
            "['/content/drive/MyDrive/fire_detection/fire/img_83.jpg', '/content/drive/MyDrive/fire_detection/fire/img_82.jpg', '/content/drive/MyDrive/fire_detection/fire/img_81.jpg', '/content/drive/MyDrive/fire_detection/fire/img_84.jpg', '/content/drive/MyDrive/fire_detection/fire/img_88.jpg', '/content/drive/MyDrive/fire_detection/fire/img_86.jpg', '/content/drive/MyDrive/fire_detection/fire/img_87.jpg', '/content/drive/MyDrive/fire_detection/fire/img_85.jpg', '/content/drive/MyDrive/fire_detection/fire/img_89.jpg', '/content/drive/MyDrive/fire_detection/fire/img_96.jpg', '/content/drive/MyDrive/fire_detection/fire/img_92.jpg', '/content/drive/MyDrive/fire_detection/fire/img_91.jpg', '/content/drive/MyDrive/fire_detection/fire/img_93.jpg', '/content/drive/MyDrive/fire_detection/fire/img_90.jpg', '/content/drive/MyDrive/fire_detection/fire/img_103.jpg', '/content/drive/MyDrive/fire_detection/fire/img_94.jpg', '/content/drive/MyDrive/fire_detection/fire/img_102.jpg', '/content/drive/MyDrive/fire_detection/fire/img_104.jpg', '/content/drive/MyDrive/fire_detection/fire/img_105.jpg', '/content/drive/MyDrive/fire_detection/fire/img_106.jpg', '/content/drive/MyDrive/fire_detection/fire/img_95.jpg', '/content/drive/MyDrive/fire_detection/fire/img_108.jpg', '/content/drive/MyDrive/fire_detection/fire/img_107.jpg', '/content/drive/MyDrive/fire_detection/fire/img_109.jpg', '/content/drive/MyDrive/fire_detection/fire/img_113.jpg', '/content/drive/MyDrive/fire_detection/fire/img_116.jpg', '/content/drive/MyDrive/fire_detection/fire/img_112.jpg', '/content/drive/MyDrive/fire_detection/fire/img_110.jpg', '/content/drive/MyDrive/fire_detection/fire/img_117.jpg', '/content/drive/MyDrive/fire_detection/fire/img_114.jpg', '/content/drive/MyDrive/fire_detection/fire/img_115.jpg', '/content/drive/MyDrive/fire_detection/fire/img_111.jpg', '/content/drive/MyDrive/fire_detection/fire/img_125.jpg', '/content/drive/MyDrive/fire_detection/fire/img_139.jpg', '/content/drive/MyDrive/fire_detection/fire/img_146.jpg', '/content/drive/MyDrive/fire_detection/fire/img_129.jpg', '/content/drive/MyDrive/fire_detection/fire/img_126.jpg', '/content/drive/MyDrive/fire_detection/fire/img_135.jpg', '/content/drive/MyDrive/fire_detection/fire/img_144.jpg', '/content/drive/MyDrive/fire_detection/fire/img_140.jpg', '/content/drive/MyDrive/fire_detection/fire/img_143.jpg', '/content/drive/MyDrive/fire_detection/fire/img_123.jpg', '/content/drive/MyDrive/fire_detection/fire/img_131.jpg', '/content/drive/MyDrive/fire_detection/fire/img_124.jpg', '/content/drive/MyDrive/fire_detection/fire/img_145.jpg', '/content/drive/MyDrive/fire_detection/fire/img_141.jpg', '/content/drive/MyDrive/fire_detection/fire/img_134.jpg', '/content/drive/MyDrive/fire_detection/fire/img_120.jpg', '/content/drive/MyDrive/fire_detection/fire/img_121.jpg', '/content/drive/MyDrive/fire_detection/fire/img_128.jpg', '/content/drive/MyDrive/fire_detection/fire/img_130.jpg', '/content/drive/MyDrive/fire_detection/fire/img_119.jpg', '/content/drive/MyDrive/fire_detection/fire/img_136.jpg', '/content/drive/MyDrive/fire_detection/fire/img_216.jpg', '/content/drive/MyDrive/fire_detection/fire/img_118.jpg', '/content/drive/MyDrive/fire_detection/fire/img_142.jpg', '/content/drive/MyDrive/fire_detection/fire/img_224.jpg', '/content/drive/MyDrive/fire_detection/fire/img_215.jpg', '/content/drive/MyDrive/fire_detection/fire/img_212.jpg', '/content/drive/MyDrive/fire_detection/fire/img_213.jpg', '/content/drive/MyDrive/fire_detection/fire/img_225.jpg', '/content/drive/MyDrive/fire_detection/fire/img_214.jpg', '/content/drive/MyDrive/fire_detection/fire/img_127.jpg', '/content/drive/MyDrive/fire_detection/fire/img_240.jpg', '/content/drive/MyDrive/fire_detection/fire/img_226.jpg', '/content/drive/MyDrive/fire_detection/fire/img_122.jpg', '/content/drive/MyDrive/fire_detection/fire/img_241.jpg', '/content/drive/MyDrive/fire_detection/fire/img_243.jpg', '/content/drive/MyDrive/fire_detection/fire/img_242.jpg', '/content/drive/MyDrive/fire_detection/fire/img_244.jpg', '/content/drive/MyDrive/fire_detection/fire/img_245.jpg', '/content/drive/MyDrive/fire_detection/fire/img_259.jpg', '/content/drive/MyDrive/fire_detection/fire/img_263.jpg', '/content/drive/MyDrive/fire_detection/fire/img_260.jpg', '/content/drive/MyDrive/fire_detection/fire/img_261.jpg', '/content/drive/MyDrive/fire_detection/fire/img_258.jpg', '/content/drive/MyDrive/fire_detection/fire/img_262.jpg', '/content/drive/MyDrive/fire_detection/fire/img_344.jpg', '/content/drive/MyDrive/fire_detection/fire/img_345.jpg', '/content/drive/MyDrive/fire_detection/fire/img_346.jpg', '/content/drive/MyDrive/fire_detection/fire/img_342.jpg', '/content/drive/MyDrive/fire_detection/fire/img_343.jpg', '/content/drive/MyDrive/fire_detection/fire/img_347.jpg', '/content/drive/MyDrive/fire_detection/fire/img_348.jpg', '/content/drive/MyDrive/fire_detection/fire/img_349.jpg', '/content/drive/MyDrive/fire_detection/fire/img_350.jpg', '/content/drive/MyDrive/fire_detection/fire/img_352.jpg', '/content/drive/MyDrive/fire_detection/fire/img_353.jpg', '/content/drive/MyDrive/fire_detection/fire/img_355.jpg', '/content/drive/MyDrive/fire_detection/fire/img_351.jpg', '/content/drive/MyDrive/fire_detection/fire/img_354.jpg', '/content/drive/MyDrive/fire_detection/fire/img_356.jpg', '/content/drive/MyDrive/fire_detection/fire/img_358.jpg', '/content/drive/MyDrive/fire_detection/fire/img_357.jpg', '/content/drive/MyDrive/fire_detection/fire/img_360.jpg', '/content/drive/MyDrive/fire_detection/fire/img_359.jpg', '/content/drive/MyDrive/fire_detection/fire/img_362.jpg', '/content/drive/MyDrive/fire_detection/fire/img_363.jpg', '/content/drive/MyDrive/fire_detection/fire/img_361.jpg', '/content/drive/MyDrive/fire_detection/fire/img_365.jpg', '/content/drive/MyDrive/fire_detection/fire/img_364.jpg', '/content/drive/MyDrive/fire_detection/fire/img_366.jpg', '/content/drive/MyDrive/fire_detection/fire/img_369.jpg', '/content/drive/MyDrive/fire_detection/fire/img_368.jpg', '/content/drive/MyDrive/fire_detection/fire/img_367.jpg', '/content/drive/MyDrive/fire_detection/fire/img_372.jpg', '/content/drive/MyDrive/fire_detection/fire/img_371.jpg', '/content/drive/MyDrive/fire_detection/fire/img_370.jpg', '/content/drive/MyDrive/fire_detection/fire/img_373.jpg', '/content/drive/MyDrive/fire_detection/fire/img_374.jpg', '/content/drive/MyDrive/fire_detection/fire/img_375.jpg', '/content/drive/MyDrive/fire_detection/fire/img_376.jpg', '/content/drive/MyDrive/fire_detection/fire/img_378.jpg', '/content/drive/MyDrive/fire_detection/fire/img_377.jpg', '/content/drive/MyDrive/fire_detection/fire/img_379.jpg', '/content/drive/MyDrive/fire_detection/fire/img_380.jpg', '/content/drive/MyDrive/fire_detection/fire/img_382.jpg', '/content/drive/MyDrive/fire_detection/fire/img_381.jpg', '/content/drive/MyDrive/fire_detection/fire/img_383.jpg', '/content/drive/MyDrive/fire_detection/fire/img_384.jpg', '/content/drive/MyDrive/fire_detection/fire/img_385.jpg', '/content/drive/MyDrive/fire_detection/fire/img_386.jpg', '/content/drive/MyDrive/fire_detection/fire/img_387.jpg', '/content/drive/MyDrive/fire_detection/fire/img_388.jpg', '/content/drive/MyDrive/fire_detection/fire/img_392.jpg', '/content/drive/MyDrive/fire_detection/fire/img_390.jpg', '/content/drive/MyDrive/fire_detection/fire/img_389.jpg', '/content/drive/MyDrive/fire_detection/fire/img_391.jpg', '/content/drive/MyDrive/fire_detection/fire/img_397.jpg', '/content/drive/MyDrive/fire_detection/fire/img_394.jpg', '/content/drive/MyDrive/fire_detection/fire/img_396.jpg', '/content/drive/MyDrive/fire_detection/fire/img_395.jpg', '/content/drive/MyDrive/fire_detection/fire/img_401.jpg', '/content/drive/MyDrive/fire_detection/fire/img_398.jpg', '/content/drive/MyDrive/fire_detection/fire/img_399.jpg', '/content/drive/MyDrive/fire_detection/fire/img_393.jpg', '/content/drive/MyDrive/fire_detection/fire/img_402.jpg', '/content/drive/MyDrive/fire_detection/fire/img_403.jpg', '/content/drive/MyDrive/fire_detection/fire/img_404.jpg', '/content/drive/MyDrive/fire_detection/fire/img_405.jpg', '/content/drive/MyDrive/fire_detection/fire/img_406.jpg', '/content/drive/MyDrive/fire_detection/fire/img_407.jpg', '/content/drive/MyDrive/fire_detection/fire/img_408.jpg', '/content/drive/MyDrive/fire_detection/fire/img_409.jpg', '/content/drive/MyDrive/fire_detection/fire/img_410.jpg', '/content/drive/MyDrive/fire_detection/fire/img_411.jpg', '/content/drive/MyDrive/fire_detection/fire/img_412.jpg', '/content/drive/MyDrive/fire_detection/fire/img_413.jpg', '/content/drive/MyDrive/fire_detection/fire/img_414.jpg', '/content/drive/MyDrive/fire_detection/fire/img_415.jpg', '/content/drive/MyDrive/fire_detection/fire/img_416.jpg', '/content/drive/MyDrive/fire_detection/fire/img_417.jpg', '/content/drive/MyDrive/fire_detection/fire/img_419.jpg', '/content/drive/MyDrive/fire_detection/fire/img_418.jpg', '/content/drive/MyDrive/fire_detection/fire/img_420.jpg', '/content/drive/MyDrive/fire_detection/fire/img_421.jpg', '/content/drive/MyDrive/fire_detection/fire/img_423.jpg', '/content/drive/MyDrive/fire_detection/fire/img_422.jpg', '/content/drive/MyDrive/fire_detection/fire/img_424.jpg', '/content/drive/MyDrive/fire_detection/fire/img_425.jpg', '/content/drive/MyDrive/fire_detection/fire/img_428.jpg', '/content/drive/MyDrive/fire_detection/fire/img_429.jpg', '/content/drive/MyDrive/fire_detection/fire/img_430.jpg', '/content/drive/MyDrive/fire_detection/fire/img_431.jpg', '/content/drive/MyDrive/fire_detection/fire/img_432.jpg', '/content/drive/MyDrive/fire_detection/fire/img_433.jpg', '/content/drive/MyDrive/fire_detection/fire/img_436.jpg', '/content/drive/MyDrive/fire_detection/fire/img_439.jpg', '/content/drive/MyDrive/fire_detection/fire/img_440.jpg', '/content/drive/MyDrive/fire_detection/fire/img_438.jpg', '/content/drive/MyDrive/fire_detection/fire/img_435.jpg', '/content/drive/MyDrive/fire_detection/fire/img_434.jpg', '/content/drive/MyDrive/fire_detection/fire/img_437.jpg', '/content/drive/MyDrive/fire_detection/fire/img_441.jpg', '/content/drive/MyDrive/fire_detection/fire/img_442.jpg', '/content/drive/MyDrive/fire_detection/fire/img_444.jpg', '/content/drive/MyDrive/fire_detection/fire/img_443.jpg', '/content/drive/MyDrive/fire_detection/fire/img_445.jpg', '/content/drive/MyDrive/fire_detection/fire/img_446.jpg', '/content/drive/MyDrive/fire_detection/fire/img_447.jpg', '/content/drive/MyDrive/fire_detection/fire/img_449.jpg', '/content/drive/MyDrive/fire_detection/fire/img_450.jpg', '/content/drive/MyDrive/fire_detection/fire/img_448.jpg', '/content/drive/MyDrive/fire_detection/fire/img_451.jpg', '/content/drive/MyDrive/fire_detection/fire/img_452.jpg', '/content/drive/MyDrive/fire_detection/fire/img_453.jpg', '/content/drive/MyDrive/fire_detection/fire/img_454.jpg', '/content/drive/MyDrive/fire_detection/fire/img_606.jpg', '/content/drive/MyDrive/fire_detection/fire/img_605.jpg', '/content/drive/MyDrive/fire_detection/fire/img_600.jpg', '/content/drive/MyDrive/fire_detection/fire/img_607.jpg', '/content/drive/MyDrive/fire_detection/fire/img_608.jpg', '/content/drive/MyDrive/fire_detection/fire/img_609.jpg', '/content/drive/MyDrive/fire_detection/fire/img_610.jpg', '/content/drive/MyDrive/fire_detection/fire/img_611.jpg', '/content/drive/MyDrive/fire_detection/fire/img_613.jpg', '/content/drive/MyDrive/fire_detection/fire/img_612.jpg', '/content/drive/MyDrive/fire_detection/fire/img_615.jpg', '/content/drive/MyDrive/fire_detection/fire/img_617.jpg', '/content/drive/MyDrive/fire_detection/fire/img_616.jpg', '/content/drive/MyDrive/fire_detection/fire/img_620.jpg', '/content/drive/MyDrive/fire_detection/fire/img_618.jpg', '/content/drive/MyDrive/fire_detection/fire/img_619.jpg', '/content/drive/MyDrive/fire_detection/fire/img_621.jpg', '/content/drive/MyDrive/fire_detection/fire/img_623.jpg', '/content/drive/MyDrive/fire_detection/fire/img_622.jpg', '/content/drive/MyDrive/fire_detection/fire/img_614.jpg', '/content/drive/MyDrive/fire_detection/fire/img_625.jpg', '/content/drive/MyDrive/fire_detection/fire/img_624.jpg', '/content/drive/MyDrive/fire_detection/fire/img_626.jpg', '/content/drive/MyDrive/fire_detection/fire/img_627.jpg', '/content/drive/MyDrive/fire_detection/fire/img_628.jpg', '/content/drive/MyDrive/fire_detection/fire/img_630.jpg', '/content/drive/MyDrive/fire_detection/fire/img_629.jpg', '/content/drive/MyDrive/fire_detection/fire/img_631.jpg', '/content/drive/MyDrive/fire_detection/fire/img_633.jpg', '/content/drive/MyDrive/fire_detection/fire/img_632.jpg', '/content/drive/MyDrive/fire_detection/fire/img_634.jpg', '/content/drive/MyDrive/fire_detection/fire/img_636.jpg', '/content/drive/MyDrive/fire_detection/fire/img_635.jpg', '/content/drive/MyDrive/fire_detection/fire/img_637.jpg', '/content/drive/MyDrive/fire_detection/fire/img_638.jpg', '/content/drive/MyDrive/fire_detection/fire/img_639.jpg', '/content/drive/MyDrive/fire_detection/fire/img_640.jpg', '/content/drive/MyDrive/fire_detection/fire/img_641.jpg', '/content/drive/MyDrive/fire_detection/fire/img_642.jpg', '/content/drive/MyDrive/fire_detection/fire/img_643.jpg', '/content/drive/MyDrive/fire_detection/fire/img_644.jpg', '/content/drive/MyDrive/fire_detection/fire/img_645.jpg', '/content/drive/MyDrive/fire_detection/fire/img_646.jpg', '/content/drive/MyDrive/fire_detection/fire/img_647.jpg', '/content/drive/MyDrive/fire_detection/fire/img_649.jpg', '/content/drive/MyDrive/fire_detection/fire/img_648.jpg', '/content/drive/MyDrive/fire_detection/fire/img_650.jpg', '/content/drive/MyDrive/fire_detection/fire/img_651.jpg', '/content/drive/MyDrive/fire_detection/fire/img_652.jpg', '/content/drive/MyDrive/fire_detection/fire/img_654.jpg', '/content/drive/MyDrive/fire_detection/fire/img_653.jpg', '/content/drive/MyDrive/fire_detection/fire/img_655.jpg', '/content/drive/MyDrive/fire_detection/fire/img_661.jpg', '/content/drive/MyDrive/fire_detection/fire/img_662.jpg', '/content/drive/MyDrive/fire_detection/fire/img_665.jpg', '/content/drive/MyDrive/fire_detection/fire/img_667.jpg', '/content/drive/MyDrive/fire_detection/fire/img_669.jpg', '/content/drive/MyDrive/fire_detection/fire/img_663.jpg', '/content/drive/MyDrive/fire_detection/fire/img_666.jpg', '/content/drive/MyDrive/fire_detection/fire/img_711.jpg', '/content/drive/MyDrive/fire_detection/fire/img_668.jpg', '/content/drive/MyDrive/fire_detection/fire/img_664.jpg', '/content/drive/MyDrive/fire_detection/fire/img_712.jpg', '/content/drive/MyDrive/fire_detection/fire/img_713.jpg', '/content/drive/MyDrive/fire_detection/fire/img_714.jpg', '/content/drive/MyDrive/fire_detection/fire/img_715.jpg', '/content/drive/MyDrive/fire_detection/fire/img_718.jpg', '/content/drive/MyDrive/fire_detection/fire/img_716.jpg', '/content/drive/MyDrive/fire_detection/fire/img_717.jpg', '/content/drive/MyDrive/fire_detection/fire/img_719.jpg', '/content/drive/MyDrive/fire_detection/fire/img_721.jpg', '/content/drive/MyDrive/fire_detection/fire/img_720.jpg', '/content/drive/MyDrive/fire_detection/fire/img_722.jpg', '/content/drive/MyDrive/fire_detection/fire/img_723.jpg', '/content/drive/MyDrive/fire_detection/fire/img_724.jpg', '/content/drive/MyDrive/fire_detection/fire/img_725.jpg', '/content/drive/MyDrive/fire_detection/fire/img_726.jpg', '/content/drive/MyDrive/fire_detection/fire/img_727.jpg', '/content/drive/MyDrive/fire_detection/fire/img_728.jpg', '/content/drive/MyDrive/fire_detection/fire/img_730.jpg', '/content/drive/MyDrive/fire_detection/fire/img_737.jpg', '/content/drive/MyDrive/fire_detection/fire/img_732.jpg', '/content/drive/MyDrive/fire_detection/fire/img_734.jpg', '/content/drive/MyDrive/fire_detection/fire/img_739.jpg', '/content/drive/MyDrive/fire_detection/fire/img_740.jpg', '/content/drive/MyDrive/fire_detection/fire/img_729.jpg', '/content/drive/MyDrive/fire_detection/fire/img_731.jpg', '/content/drive/MyDrive/fire_detection/fire/img_733.jpg', '/content/drive/MyDrive/fire_detection/fire/img_735.jpg', '/content/drive/MyDrive/fire_detection/fire/img_736.jpg', '/content/drive/MyDrive/fire_detection/fire/img_738.jpg', '/content/drive/MyDrive/fire_detection/fire/img_741.jpg', '/content/drive/MyDrive/fire_detection/fire/img_742.jpg', '/content/drive/MyDrive/fire_detection/fire/img_743.jpg', '/content/drive/MyDrive/fire_detection/fire/img_744.jpg', '/content/drive/MyDrive/fire_detection/fire/img_745.jpg', '/content/drive/MyDrive/fire_detection/fire/img_746.jpg', '/content/drive/MyDrive/fire_detection/fire/img_747.jpg', '/content/drive/MyDrive/fire_detection/fire/img_748.jpg', '/content/drive/MyDrive/fire_detection/fire/img_749.jpg', '/content/drive/MyDrive/fire_detection/fire/img_750.jpg', '/content/drive/MyDrive/fire_detection/fire/img_751.jpg', '/content/drive/MyDrive/fire_detection/fire/img_752.jpg', '/content/drive/MyDrive/fire_detection/fire/img_754.jpg', '/content/drive/MyDrive/fire_detection/fire/img_753.jpg', '/content/drive/MyDrive/fire_detection/fire/img_755.jpg', '/content/drive/MyDrive/fire_detection/fire/img_756.jpg', '/content/drive/MyDrive/fire_detection/fire/img_757.jpg', '/content/drive/MyDrive/fire_detection/fire/img_758.jpg', '/content/drive/MyDrive/fire_detection/fire/img_759.jpg', '/content/drive/MyDrive/fire_detection/fire/img_766.jpg', '/content/drive/MyDrive/fire_detection/fire/img_767.jpg', '/content/drive/MyDrive/fire_detection/fire/img_760.jpg', '/content/drive/MyDrive/fire_detection/fire/img_762.jpg', '/content/drive/MyDrive/fire_detection/fire/img_763.jpg', '/content/drive/MyDrive/fire_detection/fire/img_770.jpg', '/content/drive/MyDrive/fire_detection/fire/img_761.jpg', '/content/drive/MyDrive/fire_detection/fire/img_769.jpg', '/content/drive/MyDrive/fire_detection/fire/img_764.jpg', '/content/drive/MyDrive/fire_detection/fire/img_768.jpg', '/content/drive/MyDrive/fire_detection/fire/img_765.jpg', '/content/drive/MyDrive/fire_detection/fire/img_771.jpg', '/content/drive/MyDrive/fire_detection/fire/img_772.jpg', '/content/drive/MyDrive/fire_detection/fire/img_773.jpg', '/content/drive/MyDrive/fire_detection/fire/img_774.jpg', '/content/drive/MyDrive/fire_detection/fire/img_775.jpg', '/content/drive/MyDrive/fire_detection/fire/img_776.jpg', '/content/drive/MyDrive/fire_detection/fire/img_777.jpg', '/content/drive/MyDrive/fire_detection/fire/img_779.jpg', '/content/drive/MyDrive/fire_detection/fire/img_778.jpg', '/content/drive/MyDrive/fire_detection/fire/img_782.jpg', '/content/drive/MyDrive/fire_detection/fire/img_783.jpg', '/content/drive/MyDrive/fire_detection/fire/img_785.jpg', '/content/drive/MyDrive/fire_detection/fire/img_784.jpg', '/content/drive/MyDrive/fire_detection/fire/img_786.jpg']\n"
          ]
        }
      ],
      "source": [
        "print(lst_fire_img)"
      ]
    },
    {
      "cell_type": "code",
      "execution_count": null,
      "metadata": {
        "id": "G00fdp6vZjcT"
      },
      "outputs": [],
      "source": [
        "lst_images_random = random.sample(lst_fire_img,10) + random.sample(lst_non_fire_img,10)\n",
        "random.shuffle(lst_images_random)\n",
        "\n",
        "plt.figure(figsize = (20,20))\n",
        "\n",
        "for i in range(len(lst_images_random)):\n",
        "    \n",
        "    plt.subplot(4,5,i+1)\n",
        "\n",
        "\n",
        "    if \"non_fire\" in lst_images_random[i]:\n",
        "        img = cv2.imread(lst_images_random[i])\n",
        "        img = cv2.cvtColor(img,cv2.COLOR_RGB2BGR)\n",
        "        plt.imshow(img)\n",
        "        plt.title('Image without fire')\n",
        "\n",
        "    else:\n",
        "        img = cv2.imread(lst_images_random[i])\n",
        "        img = cv2.cvtColor(img,cv2.COLOR_RGB2BGR)\n",
        "        plt.imshow(img)\n",
        "        plt.title(\"Image with fire\")\n",
        "\n",
        "\n",
        "\n",
        "plt.show()"
      ]
    },
    {
      "cell_type": "markdown",
      "metadata": {
        "id": "FV7Ix0I9ZjcT"
      },
      "source": [
        "We create a dataframe with filepath images and label (1 = fire , 0 = without fire)"
      ]
    },
    {
      "cell_type": "code",
      "execution_count": null,
      "metadata": {
        "id": "HrIL9A2kZjcT"
      },
      "outputs": [],
      "source": [
        "lst_fire = []\n",
        "for x in lst_fire_img:\n",
        "  lst_fire.append([x,1])\n",
        "lst_nn_fire = []\n",
        "for x in lst_non_fire_img:\n",
        "  lst_nn_fire.append([x,0])\n",
        "lst_complete = lst_fire + lst_nn_fire\n",
        "random.shuffle(lst_complete)"
      ]
    },
    {
      "cell_type": "code",
      "execution_count": null,
      "metadata": {
        "colab": {
          "base_uri": "https://localhost:8080/",
          "height": 363
        },
        "id": "HjRw6TSNZjcU",
        "outputId": "374a0a5f-3afb-470b-c534-6173008aa3be"
      },
      "outputs": [
        {
          "output_type": "execute_result",
          "data": {
            "text/plain": [
              "                                               files  target\n",
              "0  /content/drive/MyDrive/fire_detection/non_fire...       0\n",
              "1  /content/drive/MyDrive/fire_detection/non_fire...       0\n",
              "2  /content/drive/MyDrive/fire_detection/non_fire...       0\n",
              "3  /content/drive/MyDrive/fire_detection/fire/img...       1\n",
              "4  /content/drive/MyDrive/fire_detection/non_fire...       0\n",
              "5  /content/drive/MyDrive/fire_detection/fire/img...       1\n",
              "6  /content/drive/MyDrive/fire_detection/fire/img...       1\n",
              "7  /content/drive/MyDrive/fire_detection/non_fire...       0\n",
              "8  /content/drive/MyDrive/fire_detection/fire/img...       1\n",
              "9  /content/drive/MyDrive/fire_detection/non_fire...       0"
            ],
            "text/html": [
              "\n",
              "  <div id=\"df-945d3c0f-2954-433b-8986-64f8c4a8ee84\">\n",
              "    <div class=\"colab-df-container\">\n",
              "      <div>\n",
              "<style scoped>\n",
              "    .dataframe tbody tr th:only-of-type {\n",
              "        vertical-align: middle;\n",
              "    }\n",
              "\n",
              "    .dataframe tbody tr th {\n",
              "        vertical-align: top;\n",
              "    }\n",
              "\n",
              "    .dataframe thead th {\n",
              "        text-align: right;\n",
              "    }\n",
              "</style>\n",
              "<table border=\"1\" class=\"dataframe\">\n",
              "  <thead>\n",
              "    <tr style=\"text-align: right;\">\n",
              "      <th></th>\n",
              "      <th>files</th>\n",
              "      <th>target</th>\n",
              "    </tr>\n",
              "  </thead>\n",
              "  <tbody>\n",
              "    <tr>\n",
              "      <th>0</th>\n",
              "      <td>/content/drive/MyDrive/fire_detection/non_fire...</td>\n",
              "      <td>0</td>\n",
              "    </tr>\n",
              "    <tr>\n",
              "      <th>1</th>\n",
              "      <td>/content/drive/MyDrive/fire_detection/non_fire...</td>\n",
              "      <td>0</td>\n",
              "    </tr>\n",
              "    <tr>\n",
              "      <th>2</th>\n",
              "      <td>/content/drive/MyDrive/fire_detection/non_fire...</td>\n",
              "      <td>0</td>\n",
              "    </tr>\n",
              "    <tr>\n",
              "      <th>3</th>\n",
              "      <td>/content/drive/MyDrive/fire_detection/fire/img...</td>\n",
              "      <td>1</td>\n",
              "    </tr>\n",
              "    <tr>\n",
              "      <th>4</th>\n",
              "      <td>/content/drive/MyDrive/fire_detection/non_fire...</td>\n",
              "      <td>0</td>\n",
              "    </tr>\n",
              "    <tr>\n",
              "      <th>5</th>\n",
              "      <td>/content/drive/MyDrive/fire_detection/fire/img...</td>\n",
              "      <td>1</td>\n",
              "    </tr>\n",
              "    <tr>\n",
              "      <th>6</th>\n",
              "      <td>/content/drive/MyDrive/fire_detection/fire/img...</td>\n",
              "      <td>1</td>\n",
              "    </tr>\n",
              "    <tr>\n",
              "      <th>7</th>\n",
              "      <td>/content/drive/MyDrive/fire_detection/non_fire...</td>\n",
              "      <td>0</td>\n",
              "    </tr>\n",
              "    <tr>\n",
              "      <th>8</th>\n",
              "      <td>/content/drive/MyDrive/fire_detection/fire/img...</td>\n",
              "      <td>1</td>\n",
              "    </tr>\n",
              "    <tr>\n",
              "      <th>9</th>\n",
              "      <td>/content/drive/MyDrive/fire_detection/non_fire...</td>\n",
              "      <td>0</td>\n",
              "    </tr>\n",
              "  </tbody>\n",
              "</table>\n",
              "</div>\n",
              "      <button class=\"colab-df-convert\" onclick=\"convertToInteractive('df-945d3c0f-2954-433b-8986-64f8c4a8ee84')\"\n",
              "              title=\"Convert this dataframe to an interactive table.\"\n",
              "              style=\"display:none;\">\n",
              "        \n",
              "  <svg xmlns=\"http://www.w3.org/2000/svg\" height=\"24px\"viewBox=\"0 0 24 24\"\n",
              "       width=\"24px\">\n",
              "    <path d=\"M0 0h24v24H0V0z\" fill=\"none\"/>\n",
              "    <path d=\"M18.56 5.44l.94 2.06.94-2.06 2.06-.94-2.06-.94-.94-2.06-.94 2.06-2.06.94zm-11 1L8.5 8.5l.94-2.06 2.06-.94-2.06-.94L8.5 2.5l-.94 2.06-2.06.94zm10 10l.94 2.06.94-2.06 2.06-.94-2.06-.94-.94-2.06-.94 2.06-2.06.94z\"/><path d=\"M17.41 7.96l-1.37-1.37c-.4-.4-.92-.59-1.43-.59-.52 0-1.04.2-1.43.59L10.3 9.45l-7.72 7.72c-.78.78-.78 2.05 0 2.83L4 21.41c.39.39.9.59 1.41.59.51 0 1.02-.2 1.41-.59l7.78-7.78 2.81-2.81c.8-.78.8-2.07 0-2.86zM5.41 20L4 18.59l7.72-7.72 1.47 1.35L5.41 20z\"/>\n",
              "  </svg>\n",
              "      </button>\n",
              "      \n",
              "  <style>\n",
              "    .colab-df-container {\n",
              "      display:flex;\n",
              "      flex-wrap:wrap;\n",
              "      gap: 12px;\n",
              "    }\n",
              "\n",
              "    .colab-df-convert {\n",
              "      background-color: #E8F0FE;\n",
              "      border: none;\n",
              "      border-radius: 50%;\n",
              "      cursor: pointer;\n",
              "      display: none;\n",
              "      fill: #1967D2;\n",
              "      height: 32px;\n",
              "      padding: 0 0 0 0;\n",
              "      width: 32px;\n",
              "    }\n",
              "\n",
              "    .colab-df-convert:hover {\n",
              "      background-color: #E2EBFA;\n",
              "      box-shadow: 0px 1px 2px rgba(60, 64, 67, 0.3), 0px 1px 3px 1px rgba(60, 64, 67, 0.15);\n",
              "      fill: #174EA6;\n",
              "    }\n",
              "\n",
              "    [theme=dark] .colab-df-convert {\n",
              "      background-color: #3B4455;\n",
              "      fill: #D2E3FC;\n",
              "    }\n",
              "\n",
              "    [theme=dark] .colab-df-convert:hover {\n",
              "      background-color: #434B5C;\n",
              "      box-shadow: 0px 1px 3px 1px rgba(0, 0, 0, 0.15);\n",
              "      filter: drop-shadow(0px 1px 2px rgba(0, 0, 0, 0.3));\n",
              "      fill: #FFFFFF;\n",
              "    }\n",
              "  </style>\n",
              "\n",
              "      <script>\n",
              "        const buttonEl =\n",
              "          document.querySelector('#df-945d3c0f-2954-433b-8986-64f8c4a8ee84 button.colab-df-convert');\n",
              "        buttonEl.style.display =\n",
              "          google.colab.kernel.accessAllowed ? 'block' : 'none';\n",
              "\n",
              "        async function convertToInteractive(key) {\n",
              "          const element = document.querySelector('#df-945d3c0f-2954-433b-8986-64f8c4a8ee84');\n",
              "          const dataTable =\n",
              "            await google.colab.kernel.invokeFunction('convertToInteractive',\n",
              "                                                     [key], {});\n",
              "          if (!dataTable) return;\n",
              "\n",
              "          const docLinkHtml = 'Like what you see? Visit the ' +\n",
              "            '<a target=\"_blank\" href=https://colab.research.google.com/notebooks/data_table.ipynb>data table notebook</a>'\n",
              "            + ' to learn more about interactive tables.';\n",
              "          element.innerHTML = '';\n",
              "          dataTable['output_type'] = 'display_data';\n",
              "          await google.colab.output.renderOutput(dataTable, element);\n",
              "          const docLink = document.createElement('div');\n",
              "          docLink.innerHTML = docLinkHtml;\n",
              "          element.appendChild(docLink);\n",
              "        }\n",
              "      </script>\n",
              "    </div>\n",
              "  </div>\n",
              "  "
            ]
          },
          "metadata": {},
          "execution_count": 9
        }
      ],
      "source": [
        "df = pd.DataFrame(lst_complete,columns = ['files','target'])\n",
        "df.head(10)"
      ]
    },
    {
      "cell_type": "markdown",
      "metadata": {
        "id": "Te2R2hG4ZjcU"
      },
      "source": [
        "We have a problem with image 189 in non_fire_images so we drop it"
      ]
    },
    {
      "cell_type": "code",
      "execution_count": null,
      "metadata": {
        "colab": {
          "base_uri": "https://localhost:8080/"
        },
        "id": "oao0dgb7ZjcV",
        "outputId": "a167c730-e7c3-4097-d339-0aa7d50389b1"
      },
      "outputs": [
        {
          "output_type": "execute_result",
          "data": {
            "text/plain": [
              "(793, 2)"
            ]
          },
          "metadata": {},
          "execution_count": 10
        }
      ],
      "source": [
        "df.shape"
      ]
    },
    {
      "cell_type": "markdown",
      "metadata": {
        "id": "KWh6mdv3ZjcV"
      },
      "source": [
        "We can see that the dataset is unbalanced, but we don't use ImageDataGenerator because the result are pretty good despite this"
      ]
    },
    {
      "cell_type": "code",
      "execution_count": null,
      "metadata": {
        "colab": {
          "base_uri": "https://localhost:8080/",
          "height": 673
        },
        "id": "Y2oXFZ7CZjcV",
        "outputId": "2e08e753-85ac-4873-f5f3-d7ac5640ee29"
      },
      "outputs": [
        {
          "output_type": "display_data",
          "data": {
            "text/plain": [
              "<Figure size 1000x1000 with 1 Axes>"
            ],
            "image/png": "[encoded data removed]"
          },
          "metadata": {}
        }
      ],
      "source": [
        "plt.figure(figsize = (10,10))\n",
        "\n",
        "\n",
        "sns.countplot(x = \"target\",data = df)\n",
        "\n",
        "plt.show()"
      ]
    },
    {
      "cell_type": "markdown",
      "metadata": {
        "id": "W-ZX8O2nZjcV"
      },
      "source": [
        "We preprocess all the images "
      ]
    },
    {
      "cell_type": "code",
      "execution_count": null,
      "metadata": {
        "id": "CtWpk4gAZjcW"
      },
      "outputs": [],
      "source": [
        "def preprocessing_image(filepath):\n",
        "  img = cv2.imread(filepath) #read\n",
        "  img = cv2.cvtColor(img,cv2.COLOR_RGB2BGR) #convert\n",
        "  img = cv2.resize(img,(196,196))  # resize\n",
        "  img = img / 255 #scale\n",
        "  return img "
      ]
    },
    {
      "cell_type": "markdown",
      "metadata": {
        "id": "kJHbobVTZjcW"
      },
      "source": [
        "We create numpy array X and y . X are 998 images with (196,196,3) shape, y the target is (998,) shape"
      ]
    },
    {
      "cell_type": "code",
      "execution_count": null,
      "metadata": {
        "id": "EpmX0SMDZjcW"
      },
      "outputs": [],
      "source": [
        "def create_format_dataset(dataframe):\n",
        "  X = []\n",
        "  y = []\n",
        "  for f,t in dataframe.values:\n",
        "    X.append(preprocessing_image(f))\n",
        "    y.append(t)\n",
        "  \n",
        "  return np.array(X),np.array(y)"
      ]
    },
    {
      "cell_type": "code",
      "execution_count": null,
      "metadata": {
        "id": "aefIbzXUZjcW"
      },
      "outputs": [],
      "source": [
        "X, y = create_format_dataset(df)"
      ]
    },
    {
      "cell_type": "code",
      "execution_count": null,
      "metadata": {
        "id": "RfitiBscZjcW"
      },
      "outputs": [],
      "source": [
        "X.shape,y.shape"
      ]
    },
    {
      "cell_type": "markdown",
      "metadata": {
        "id": "YnpT1_zMZjcX"
      },
      "source": [
        "we split the data in train and test "
      ]
    },
    {
      "cell_type": "code",
      "execution_count": null,
      "metadata": {
        "id": "22HPoRLEZjcX"
      },
      "outputs": [],
      "source": [
        "X_train,X_test,y_train,y_test = train_test_split(X,y,test_size = 0.2,stratify = y)"
      ]
    },
    {
      "cell_type": "code",
      "execution_count": null,
      "metadata": {
        "id": "zX6CX6CvZjcX"
      },
      "outputs": [],
      "source": [
        "X_train.shape,X_test.shape,y_train.shape,y_test.shape"
      ]
    },
    {
      "cell_type": "code",
      "execution_count": null,
      "metadata": {
        "id": "duxUlcM4ZjcX"
      },
      "outputs": [],
      "source": [
        "model = Sequential()\n",
        "\n",
        "model.add(Conv2D(128,(2,2),input_shape = (196,196,3),activation='relu'))\n",
        "model.add(Conv2D(64,(2,2),activation='relu'))\n",
        "model.add(MaxPooling2D())\n",
        "model.add(Conv2D(32,(2,2),activation='relu'))\n",
        "model.add(MaxPooling2D())\n",
        "\n",
        "model.add(Flatten())\n",
        "model.add(Dense(128))\n",
        "model.add(Dense(1,activation= \"sigmoid\"))"
      ]
    },
    {
      "cell_type": "code",
      "execution_count": null,
      "metadata": {
        "id": "-S1_ZLCmZjcY"
      },
      "outputs": [],
      "source": [
        "model.summary()"
      ]
    },
    {
      "cell_type": "code",
      "execution_count": null,
      "metadata": {
        "colab": {
          "base_uri": "https://localhost:8080/"
        },
        "id": "CSimECTYZjcY",
        "outputId": "eeb970c2-0d0b-414c-85d1-d5f384cf96fa"
      },
      "outputs": [
        {
          "output_type": "stream",
          "name": "stdout",
          "text": [
            "Epoch 1/30\n",
            "20/20 [==============================] - 19s 253ms/step - loss: 1.3755 - accuracy: 0.6625 - val_loss: 0.3257 - val_accuracy: 0.8239\n",
            "Epoch 2/30\n",
            "20/20 [==============================] - 3s 145ms/step - loss: 0.3728 - accuracy: 0.8375 - val_loss: 0.2098 - val_accuracy: 0.9623\n",
            "Epoch 3/30\n",
            "20/20 [==============================] - 3s 136ms/step - loss: 0.2238 - accuracy: 0.9038 - val_loss: 0.1348 - val_accuracy: 0.9560\n",
            "Epoch 4/30\n",
            "20/20 [==============================] - 3s 133ms/step - loss: 0.1854 - accuracy: 0.9196 - val_loss: 0.1380 - val_accuracy: 0.9371\n",
            "Epoch 5/30\n",
            "20/20 [==============================] - 3s 143ms/step - loss: 0.1649 - accuracy: 0.9369 - val_loss: 0.1006 - val_accuracy: 0.9623\n",
            "Epoch 6/30\n",
            "20/20 [==============================] - 3s 134ms/step - loss: 0.0919 - accuracy: 0.9637 - val_loss: 0.0844 - val_accuracy: 0.9686\n",
            "Epoch 7/30\n",
            "20/20 [==============================] - 3s 136ms/step - loss: 0.0852 - accuracy: 0.9653 - val_loss: 0.1324 - val_accuracy: 0.9560\n",
            "Epoch 8/30\n",
            "20/20 [==============================] - 3s 144ms/step - loss: 0.0987 - accuracy: 0.9748 - val_loss: 0.0922 - val_accuracy: 0.9686\n",
            "Epoch 9/30\n",
            "20/20 [==============================] - 3s 133ms/step - loss: 0.0922 - accuracy: 0.9700 - val_loss: 0.0889 - val_accuracy: 0.9623\n",
            "Epoch 10/30\n",
            "20/20 [==============================] - 3s 135ms/step - loss: 0.0518 - accuracy: 0.9779 - val_loss: 0.0736 - val_accuracy: 0.9811\n",
            "Epoch 11/30\n",
            "20/20 [==============================] - 3s 132ms/step - loss: 0.0430 - accuracy: 0.9779 - val_loss: 0.1149 - val_accuracy: 0.9811\n",
            "Epoch 12/30\n",
            "20/20 [==============================] - 3s 148ms/step - loss: 0.0347 - accuracy: 0.9890 - val_loss: 0.0633 - val_accuracy: 0.9811\n",
            "Epoch 13/30\n",
            "20/20 [==============================] - 3s 135ms/step - loss: 0.0250 - accuracy: 0.9921 - val_loss: 0.1276 - val_accuracy: 0.9497\n",
            "Epoch 14/30\n",
            "20/20 [==============================] - 3s 136ms/step - loss: 0.0304 - accuracy: 0.9890 - val_loss: 0.0630 - val_accuracy: 0.9748\n",
            "Epoch 15/30\n",
            "20/20 [==============================] - 3s 137ms/step - loss: 0.0247 - accuracy: 0.9921 - val_loss: 0.0546 - val_accuracy: 0.9811\n",
            "Epoch 16/30\n",
            "20/20 [==============================] - 3s 137ms/step - loss: 0.0170 - accuracy: 0.9968 - val_loss: 0.0276 - val_accuracy: 1.0000\n",
            "Epoch 17/30\n",
            "20/20 [==============================] - 3s 139ms/step - loss: 0.0270 - accuracy: 0.9921 - val_loss: 0.0583 - val_accuracy: 0.9686\n",
            "Epoch 18/30\n",
            "20/20 [==============================] - 3s 144ms/step - loss: 0.0185 - accuracy: 0.9937 - val_loss: 0.0496 - val_accuracy: 0.9811\n",
            "Epoch 19/30\n",
            "20/20 [==============================] - 3s 142ms/step - loss: 0.0101 - accuracy: 1.0000 - val_loss: 0.0510 - val_accuracy: 0.9748\n",
            "Epoch 20/30\n",
            "20/20 [==============================] - 3s 135ms/step - loss: 0.0070 - accuracy: 0.9953 - val_loss: 0.0575 - val_accuracy: 0.9748\n",
            "Epoch 21/30\n",
            "20/20 [==============================] - 3s 134ms/step - loss: 0.0060 - accuracy: 0.9968 - val_loss: 0.0386 - val_accuracy: 0.9748\n",
            "Epoch 22/30\n",
            "20/20 [==============================] - 3s 148ms/step - loss: 0.0083 - accuracy: 1.0000 - val_loss: 0.0604 - val_accuracy: 0.9686\n",
            "Epoch 23/30\n",
            "20/20 [==============================] - 3s 137ms/step - loss: 0.0179 - accuracy: 0.9937 - val_loss: 0.2137 - val_accuracy: 0.9497\n",
            "Epoch 24/30\n",
            "20/20 [==============================] - 3s 143ms/step - loss: 0.0187 - accuracy: 0.9921 - val_loss: 0.0536 - val_accuracy: 0.9811\n",
            "Epoch 25/30\n",
            "20/20 [==============================] - 3s 143ms/step - loss: 0.0295 - accuracy: 0.9953 - val_loss: 0.0655 - val_accuracy: 0.9748\n",
            "Epoch 26/30\n",
            "20/20 [==============================] - 3s 147ms/step - loss: 0.0320 - accuracy: 0.9953 - val_loss: 0.1300 - val_accuracy: 0.9686\n"
          ]
        },
        {
          "output_type": "execute_result",
          "data": {
            "text/plain": [
              "<keras.callbacks.History at 0x7f2a879be670>"
            ]
          },
          "metadata": {},
          "execution_count": 18
        }
      ],
      "source": [
        "callbacks = [EarlyStopping(monitor = 'val_loss',patience = 10,restore_best_weights=True)]\n",
        "model.compile(optimizer='adam',loss = 'binary_crossentropy',metrics=['accuracy'])\n",
        "model.fit(X_train,y_train,validation_data=(X_test,y_test),epochs = 30,batch_size = 32,callbacks = callbacks)"
      ]
    },
    {
      "cell_type": "code",
      "execution_count": null,
      "metadata": {
        "id": "TpbEk4JlZjcY"
      },
      "outputs": [],
      "source": [
        "y_pred = model.predict(X_test)\n",
        "print(y_pred)"
      ]
    },
    {
      "cell_type": "code",
      "execution_count": null,
      "metadata": {
        "colab": {
          "base_uri": "https://localhost:8080/"
        },
        "id": "T-xTfvTBZjcY",
        "outputId": "f8d9e11b-ac64-4401-9be7-b9e332d5b430"
      },
      "outputs": [
        {
          "output_type": "stream",
          "name": "stdout",
          "text": [
            "[1 0 0 0 0 1 1 0 0 1 0 0 0 1 1 0 0 1 1 1 0 0 1 0 0 0 1 1 0 0 1 0 0 0 0 0 0\n",
            " 0 1 0 0 1 1 1 0 1 0 0 1 0 0 1 1 1 0 0 0 1 0 0 1 0 0 1 1 0 1 0 0 0 0 1 0 1\n",
            " 0 0 0 1 1 1 0 1 0 0 0 0 0 0 1 0 0 1 0 0 0 1 1 1 1 1 0 1 0 1 1 1 1 0 1 1 0\n",
            " 1 0 1 0 1 0 1 0 0 0 0 0 0 0 1 0 0 0 0 1 0 0 0 0 0 0 0 1 1 1 1 1 1 0 1 1 0\n",
            " 1 0 0 0 0 0 1 0 1 0 1]\n"
          ]
        }
      ],
      "source": [
        "y_pred = y_pred.reshape(-1)\n",
        "print(y_pred)\n",
        "y_pred[y_pred<0.5] = 0\n",
        "y_pred[y_pred>=0.5] = 1\n",
        "y_pred = y_pred.astype('int')"
      ]
    },
    {
      "cell_type": "code",
      "execution_count": null,
      "metadata": {
        "id": "fLUOv1stZjcZ"
      },
      "outputs": [],
      "source": [
        "y_pred"
      ]
    },
    {
      "cell_type": "code",
      "execution_count": null,
      "metadata": {
        "id": "Jnsb53FZZjcZ"
      },
      "outputs": [],
      "source": [
        "plt.figure(figsize = (20,10))\n",
        "\n",
        "sns.heatmap(confusion_matrix(y_test,y_pred),annot = True)\n",
        "plt.title(\"Confusion Matrix\")\n",
        "plt.xlabel(\"Predicted\")\n",
        "plt.ylabel(\"True\")\n",
        "\n",
        "plt.show()"
      ]
    },
    {
      "cell_type": "code",
      "execution_count": null,
      "metadata": {
        "colab": {
          "base_uri": "https://localhost:8080/"
        },
        "id": "tvWxnt7UZjcZ",
        "outputId": "01d4777e-0185-4c9c-8dff-e45a0a13ddfb"
      },
      "outputs": [
        {
          "output_type": "stream",
          "name": "stdout",
          "text": [
            "              precision    recall  f1-score   support\n",
            "\n",
            "           0       1.00      1.00      1.00        94\n",
            "           1       1.00      1.00      1.00        65\n",
            "\n",
            "    accuracy                           1.00       159\n",
            "   macro avg       1.00      1.00      1.00       159\n",
            "weighted avg       1.00      1.00      1.00       159\n",
            "\n"
          ]
        }
      ],
      "source": [
        "print(classification_report(y_test,y_pred))"
      ]
    },
    {
      "cell_type": "code",
      "execution_count": null,
      "metadata": {
        "id": "0xKlTvOyH7sz"
      },
      "outputs": [],
      "source": [
        "import joblib\n",
        "joblib.dump(model,\"firedetection.h5\")"
      ]
    },
    {
      "cell_type": "code",
      "source": [
        "model.save(\"fire.h5\")"
      ],
      "metadata": {
        "id": "0EhcCRkbSP7V"
      },
      "execution_count": null,
      "outputs": []
    },
    {
      "cell_type": "code",
      "source": [
        "new_pred=joblib.load(\"firedetections.joblib\")"
      ],
      "metadata": {
        "id": "pwaUex5ePPpY"
      },
      "execution_count": null,
      "outputs": []
    }
  ],
  "metadata": {
    "accelerator": "GPU",
    "colab": {
      "provenance": [],
      "include_colab_link": true
    },
    "gpuClass": "standard",
    "kernelspec": {
      "display_name": "Python 3",
      "language": "python",
      "name": "python3"
    },
    "language_info": {
      "codemirror_mode": {
        "name": "ipython",
        "version": 3
      },
      "file_extension": ".py",
      "mimetype": "text/x-python",
      "name": "python",
      "nbconvert_exporter": "python",
      "pygments_lexer": "ipython3",
      "version": "3.7.6"
    }
  },
  "nbformat": 4,
  "nbformat_minor": 0
}